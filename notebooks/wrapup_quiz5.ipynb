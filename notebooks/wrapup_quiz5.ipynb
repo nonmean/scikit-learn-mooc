{
 "cells": [
  {
   "cell_type": "code",
   "execution_count": 1,
   "metadata": {},
   "outputs": [],
   "source": [
    "import pandas as pd\n",
    "\n",
    "ames_housing = pd.read_csv(\"../datasets/ames_housing_no_missing.csv\")\n",
    "target_name = \"SalePrice\"\n",
    "data = ames_housing.drop(columns=target_name)\n",
    "target = ames_housing[target_name]"
   ]
  },
  {
   "cell_type": "code",
   "execution_count": 2,
   "metadata": {},
   "outputs": [],
   "source": [
    "numerical_features = [\n",
    "    \"LotFrontage\", \"LotArea\", \"MasVnrArea\", \"BsmtFinSF1\", \"BsmtFinSF2\",\n",
    "    \"BsmtUnfSF\", \"TotalBsmtSF\", \"1stFlrSF\", \"2ndFlrSF\", \"LowQualFinSF\",\n",
    "    \"GrLivArea\", \"BedroomAbvGr\", \"KitchenAbvGr\", \"TotRmsAbvGrd\", \"Fireplaces\",\n",
    "    \"GarageCars\", \"GarageArea\", \"WoodDeckSF\", \"OpenPorchSF\", \"EnclosedPorch\",\n",
    "    \"3SsnPorch\", \"ScreenPorch\", \"PoolArea\", \"MiscVal\",\n",
    "]\n",
    "\n",
    "data_numerical = data[numerical_features]"
   ]
  },
  {
   "cell_type": "code",
   "execution_count": 9,
   "metadata": {},
   "outputs": [],
   "source": [
    "from sklearn.linear_model import LinearRegression\n",
    "from sklearn.tree import DecisionTreeRegressor\n",
    "from sklearn.preprocessing import StandardScaler\n",
    "from sklearn.pipeline import make_pipeline\n",
    "from sklearn.model_selection import cross_validate"
   ]
  },
  {
   "cell_type": "code",
   "execution_count": 22,
   "metadata": {},
   "outputs": [],
   "source": [
    "# Q1\n",
    "\n",
    "linear_model = make_pipeline(StandardScaler(), LinearRegression())\n",
    "linear_cv = cross_validate(linear_model, data_numerical, target, return_train_score=True, cv=10) \n",
    "\n",
    "tree = DecisionTreeRegressor()\n",
    "tree_cv = cross_validate(tree, data_numerical, target, return_train_score=True, cv=10) "
   ]
  },
  {
   "cell_type": "code",
   "execution_count": 19,
   "metadata": {},
   "outputs": [
    {
     "name": "stdout",
     "output_type": "stream",
     "text": [
      "[0.76129977 0.80617644 0.81188989 0.66592199 0.79964891 0.76868787\n",
      " 0.75635094 0.71822127 0.31479306 0.78635221]\n"
     ]
    }
   ],
   "source": [
    "print(linear_cv[\"test_score\"])"
   ]
  },
  {
   "cell_type": "code",
   "execution_count": 21,
   "metadata": {},
   "outputs": [
    {
     "name": "stdout",
     "output_type": "stream",
     "text": [
      "True\n",
      "True\n",
      "True\n",
      "True\n",
      "True\n",
      "True\n",
      "True\n",
      "True\n",
      "False\n",
      "True\n"
     ]
    }
   ],
   "source": [
    "linear_cv_results = [score for score in linear_cv[\"test_score\"]]\n",
    "tree_cv_results = [score for score in tree_cv[\"test_score\"]]\n",
    "\n",
    "for i, j in zip(linear_cv_results, tree_cv_results):\n",
    "    print(i > j)"
   ]
  },
  {
   "cell_type": "code",
   "execution_count": 23,
   "metadata": {},
   "outputs": [],
   "source": [
    "# Q2\n",
    "from sklearn.model_selection import GridSearchCV"
   ]
  },
  {
   "cell_type": "code",
   "execution_count": 33,
   "metadata": {},
   "outputs": [],
   "source": [
    "max_depth_range = list(range(1, 16))\n",
    "param_grid = {\"max_depth\": max_depth_range}\n",
    "\n",
    "tree_grid_cv = GridSearchCV(DecisionTreeRegressor(), param_grid=param_grid, cv=10)\n",
    "\n",
    "tree_cv_results_grid = cross_validate(tree_grid_cv, data_numerical, target, cv=10, return_estimator=True)"
   ]
  },
  {
   "cell_type": "code",
   "execution_count": 36,
   "metadata": {},
   "outputs": [
    {
     "name": "stdout",
     "output_type": "stream",
     "text": [
      "[{'max_depth': 7}, {'max_depth': 8}, {'max_depth': 10}, {'max_depth': 6}, {'max_depth': 7}, {'max_depth': 6}, {'max_depth': 6}, {'max_depth': 6}, {'max_depth': 7}, {'max_depth': 6}]\n"
     ]
    }
   ],
   "source": [
    "opt_depths = [cv_result.best_params_ for cv_result in tree_cv_results_grid[\"estimator\"]]\n",
    "print(opt_depths)"
   ]
  },
  {
   "cell_type": "code",
   "execution_count": 41,
   "metadata": {},
   "outputs": [
    {
     "name": "stdout",
     "output_type": "stream",
     "text": [
      "[0.5917337945748162, 0.6894036175770164, 0.7526404306144214, 0.6159378661217656, 0.7666182670842291, 0.7382025906224221, 0.6893723792090307, 0.7605357639335458, 0.526708102142986, 0.736763324014172]\n",
      "[0.5917337945748162, 0.6894036175770164, 0.7526404306144214, 0.6159378661217656, 0.7666182670842291, 0.7382025906224221, 0.6893723792090307, 0.7605357639335458, 0.526708102142986, 0.736763324014172]\n",
      "[0.7007137018993956, 0.6913307163011921, 0.7038814216831045, 0.7192595928227965, 0.6849326878531716, 0.6860204289552512, 0.6717485522956247, 0.6846081076806249, 0.694464970025691, 0.6427433884383407]\n"
     ]
    }
   ],
   "source": [
    "# Q3\n",
    "opt_scores = [score for score in tree_cv_results_grid[\"test_score\"]]\n",
    "print(opt_scores)\n",
    "\n",
    "opt_scores2 = [cv_result.best_score_ for cv_result in tree_cv_results_grid[\"estimator\"]]\n",
    "print(opt_scores2)"
   ]
  },
  {
   "cell_type": "code",
   "execution_count": 42,
   "metadata": {},
   "outputs": [
    {
     "name": "stdout",
     "output_type": "stream",
     "text": [
      "False\n",
      "False\n",
      "False\n",
      "True\n",
      "False\n",
      "False\n",
      "False\n",
      "False\n",
      "True\n",
      "False\n"
     ]
    }
   ],
   "source": [
    "for i, j in zip(opt_scores2, linear_cv_results):\n",
    "    print(i > j)"
   ]
  },
  {
   "cell_type": "code",
   "execution_count": 51,
   "metadata": {},
   "outputs": [
    {
     "name": "stdout",
     "output_type": "stream",
     "text": [
      "(1460, 36) (1460, 43)\n",
      "Index(['MSZoning', 'Street', 'Alley', 'LotShape', 'LandContour', 'Utilities',\n",
      "       'LotConfig', 'LandSlope', 'Neighborhood', 'Condition1', 'Condition2',\n",
      "       'BldgType', 'HouseStyle', 'RoofStyle', 'RoofMatl', 'Exterior1st',\n",
      "       'Exterior2nd', 'MasVnrType', 'ExterQual', 'ExterCond', 'Foundation',\n",
      "       'BsmtQual', 'BsmtCond', 'BsmtExposure', 'BsmtFinType1', 'BsmtFinType2',\n",
      "       'Heating', 'HeatingQC', 'CentralAir', 'Electrical', 'KitchenQual',\n",
      "       'Functional', 'FireplaceQu', 'GarageType', 'GarageFinish', 'GarageQual',\n",
      "       'GarageCond', 'PavedDrive', 'PoolQC', 'Fence', 'MiscFeature',\n",
      "       'SaleType', 'SaleCondition'],\n",
      "      dtype='object')\n",
      "Index(['MSSubClass', 'LotFrontage', 'LotArea', 'OverallQual', 'OverallCond',\n",
      "       'YearBuilt', 'YearRemodAdd', 'MasVnrArea', 'BsmtFinSF1', 'BsmtFinSF2',\n",
      "       'BsmtUnfSF', 'TotalBsmtSF', '1stFlrSF', '2ndFlrSF', 'LowQualFinSF',\n",
      "       'GrLivArea', 'BsmtFullBath', 'BsmtHalfBath', 'FullBath', 'HalfBath',\n",
      "       'BedroomAbvGr', 'KitchenAbvGr', 'TotRmsAbvGrd', 'Fireplaces',\n",
      "       'GarageYrBlt', 'GarageCars', 'GarageArea', 'WoodDeckSF', 'OpenPorchSF',\n",
      "       'EnclosedPorch', '3SsnPorch', 'ScreenPorch', 'PoolArea', 'MiscVal',\n",
      "       'MoSold', 'YrSold'],\n",
      "      dtype='object')\n"
     ]
    }
   ],
   "source": [
    "# Q4\n",
    "data_numerical = data.select_dtypes(exclude=[\"object\"])\n",
    "data_category = data.select_dtypes(include=[\"object\"])\n",
    "\n",
    "print(data_numerical.shape, data_category.shape)\n",
    "print(data_category.columns)\n",
    "print(data_numerical.columns)"
   ]
  },
  {
   "cell_type": "code",
   "execution_count": 99,
   "metadata": {},
   "outputs": [],
   "source": [
    "from sklearn.preprocessing import OrdinalEncoder\n",
    "from sklearn.compose import make_column_transformer\n",
    "\n",
    "preprocessor = make_column_transformer(\n",
    "    (OrdinalEncoder(handle_unknown=\"use_encoded_value\", unknown_value=-1), data_category.columns),\n",
    "    (\"passthrough\", data_numerical.columns)\n",
    ")\n",
    "\n",
    "tree_pipeline = make_pipeline(preprocessor, DecisionTreeRegressor(max_depth=7))"
   ]
  },
  {
   "cell_type": "code",
   "execution_count": 100,
   "metadata": {},
   "outputs": [],
   "source": [
    "tree_cv_with_category = cross_validate(tree_pipeline, data, target, \n",
    "    return_train_score=True, cv=10, return_estimator=True) "
   ]
  },
  {
   "cell_type": "code",
   "execution_count": 109,
   "metadata": {},
   "outputs": [],
   "source": [
    "tree_cv_results = [score for score in tree_cv_with_category[\"test_score\"]]"
   ]
  },
  {
   "cell_type": "code",
   "execution_count": 110,
   "metadata": {},
   "outputs": [
    {
     "name": "stdout",
     "output_type": "stream",
     "text": [
      "False\n",
      "False\n",
      "True\n",
      "False\n",
      "True\n",
      "True\n",
      "True\n",
      "True\n",
      "True\n",
      "False\n"
     ]
    }
   ],
   "source": [
    "for i, j in zip(tree_cv_results, linear_cv_results):\n",
    "    print(i > j)"
   ]
  },
  {
   "cell_type": "code",
   "execution_count": null,
   "metadata": {},
   "outputs": [],
   "source": []
  }
 ],
 "metadata": {
  "interpreter": {
   "hash": "e9b420695c8254358ebd2f0abd4ac04aeabc7690348d3ca445b085e5e45a3377"
  },
  "kernelspec": {
   "display_name": "Python 3.9.7 ('base')",
   "language": "python",
   "name": "python3"
  },
  "language_info": {
   "codemirror_mode": {
    "name": "ipython",
    "version": 3
   },
   "file_extension": ".py",
   "mimetype": "text/x-python",
   "name": "python",
   "nbconvert_exporter": "python",
   "pygments_lexer": "ipython3",
   "version": "3.9.7"
  },
  "orig_nbformat": 4
 },
 "nbformat": 4,
 "nbformat_minor": 2
}
